{
 "cells": [
  {
   "cell_type": "code",
   "execution_count": 12,
   "metadata": {},
   "outputs": [],
   "source": [
    "import json \n",
    "import pandas as pd\n",
    "from bs4 import BeautifulSoup\n",
    "import re\n",
    "from transformers import BertTokenizer\n",
    "import tensorflow as tf\n",
    "from tensorflow.keras.models import Model\n",
    "from tensorflow.keras.layers import Input, Dense, Dropout, GlobalAveragePooling1D, Lambda\n",
    "from sklearn.model_selection import train_test_split\n",
    "from transformers import TFBertModel\n",
    "from sqlalchemy import create_engine, Column, Integer, String, Float\n",
    "from sqlalchemy.ext.declarative import declarative_base\n",
    "from sqlalchemy.orm import sessionmaker\n",
    "from tensorflow.keras.callbacks import EarlyStopping, ModelCheckpoint"
   ]
  },
  {
   "cell_type": "code",
   "execution_count": 13,
   "metadata": {},
   "outputs": [],
   "source": [
    "filename_pkl = 'restaurants_reviews.pkl'\n",
    "filename_tskv = 'geo-reviews-dataset-2023.tskv'\n",
    "filename_json = 'geo-reviews-dataset-2023.json'"
   ]
  },
  {
   "cell_type": "markdown",
   "metadata": {},
   "source": [
    "Поскольку по ТЗ даётся json dataset, а мню был найден хороший tskv датасет от Яндекса, то я сначала перевожу tskv в json, а уже потом в pkl ¯\\_(ツ)_/¯"
   ]
  },
  {
   "cell_type": "code",
   "execution_count": null,
   "metadata": {},
   "outputs": [],
   "source": [
    "def tsv2json(input_file, output_file):\n",
    "    arr = []\n",
    "    \n",
    "    with open(input_file, 'r', encoding='utf-8') as file:\n",
    "        for line in file:\n",
    "            items = line.split('\\t')\n",
    "            d = {}\n",
    "            for item in items:\n",
    "                key, value = item.split('=', 1)\n",
    "                d[key.strip()] = value.strip()\n",
    "            arr.append(d)\n",
    "    \n",
    "    with open(output_file, 'w', encoding='utf-8') as file:\n",
    "        json.dump(arr, file, ensure_ascii=False, indent=4)"
   ]
  },
  {
   "cell_type": "markdown",
   "metadata": {},
   "source": [
    "непосредственно функция для перевода tskv в json и запись в файл жсона"
   ]
  },
  {
   "cell_type": "code",
   "execution_count": null,
   "metadata": {},
   "outputs": [],
   "source": [
    "tsv2json(filename_tskv,filename_json)"
   ]
  },
  {
   "cell_type": "code",
   "execution_count": null,
   "metadata": {},
   "outputs": [],
   "source": [
    "df = pd.read_json(filename_json, encoding='utf-8')\n",
    "df_restaurants = df[df['rubrics'].str.contains('Ресторан', case=False)]"
   ]
  },
  {
   "cell_type": "markdown",
   "metadata": {},
   "source": [
    "открываем жсон(если мы закрыли Юпитер до этого шага) и переводим его в датафрейм"
   ]
  },
  {
   "cell_type": "code",
   "execution_count": null,
   "metadata": {},
   "outputs": [],
   "source": [
    "def clean_text(text):\n",
    "    text = BeautifulSoup(text, \"html.parser\").get_text()\n",
    "    text = re.sub(r'[^\\w\\s]', '', text)  \n",
    "    text = text.lower()  \n",
    "    \n",
    "    return text\n",
    "\n"
   ]
  },
  {
   "cell_type": "markdown",
   "metadata": {},
   "source": [
    "функция очистки текста от хтмл тегов, знаков препинания и перевод в нижний регистр"
   ]
  },
  {
   "cell_type": "code",
   "execution_count": null,
   "metadata": {},
   "outputs": [],
   "source": [
    "df_restaurants['text'] = df_restaurants['text'].apply(clean_text)\n",
    "df_restaurants.drop_duplicates(subset=['text'], inplace=True)\n",
    "df_restaurants.to_pickle(filename_pkl)\n"
   ]
  },
  {
   "cell_type": "markdown",
   "metadata": {},
   "source": [
    "применяем функцию очистки текста к нашему pkl и убираем дубликаты, записываем датафрейм в pkl файл"
   ]
  },
  {
   "cell_type": "code",
   "execution_count": null,
   "metadata": {},
   "outputs": [],
   "source": [
    "def rating_to_label(rating):\n",
    "    if rating <= 2:\n",
    "        return 0  \n",
    "    elif rating >= 4:\n",
    "        return 1  \n",
    "    else:\n",
    "        return None \n",
    "df_restaurants['label'] = df_restaurants['rating'].apply(rating_to_label)\n",
    "df_restaurants = df_restaurants.dropna(subset=['label'])\n",
    "df_restaurants.to_pickle(filename_pkl)"
   ]
  },
  {
   "cell_type": "markdown",
   "metadata": {},
   "source": [
    "Функция для присвоения меток нашим отзывам. Если отзыв хороший, то метка 1; если отзыв плохой, то метка 0; если отзыв нейтральный, то дропаем отзыв(кому нужны плохие отзывы? ну и пожалейте мой компьютер, ему еще это обучать)"
   ]
  },
  {
   "cell_type": "code",
   "execution_count": 14,
   "metadata": {},
   "outputs": [
    {
     "data": {
      "text/html": [
       "<div>\n",
       "<style scoped>\n",
       "    .dataframe tbody tr th:only-of-type {\n",
       "        vertical-align: middle;\n",
       "    }\n",
       "\n",
       "    .dataframe tbody tr th {\n",
       "        vertical-align: top;\n",
       "    }\n",
       "\n",
       "    .dataframe thead th {\n",
       "        text-align: right;\n",
       "    }\n",
       "</style>\n",
       "<table border=\"1\" class=\"dataframe\">\n",
       "  <thead>\n",
       "    <tr style=\"text-align: right;\">\n",
       "      <th></th>\n",
       "      <th>address</th>\n",
       "      <th>name_ru</th>\n",
       "      <th>rating</th>\n",
       "      <th>rubrics</th>\n",
       "      <th>text</th>\n",
       "      <th>label</th>\n",
       "      <th>tokens</th>\n",
       "    </tr>\n",
       "  </thead>\n",
       "  <tbody>\n",
       "    <tr>\n",
       "      <th>0</th>\n",
       "      <td>Краснодарский край, городской округ Сочи, посё...</td>\n",
       "      <td>Пандок</td>\n",
       "      <td>2</td>\n",
       "      <td>Ресторан</td>\n",
       "      <td>самый большой плюс это месторасположение набер...</td>\n",
       "      <td>0</td>\n",
       "      <td>[самый, большой, плюс, это, месторасположение,...</td>\n",
       "    </tr>\n",
       "    <tr>\n",
       "      <th>1</th>\n",
       "      <td>Краснодарский край, городской округ Сочи, посё...</td>\n",
       "      <td>Пандок</td>\n",
       "      <td>5</td>\n",
       "      <td>Ресторан</td>\n",
       "      <td>добрый день сегодня во второй раз посетили с д...</td>\n",
       "      <td>1</td>\n",
       "      <td>[добрый, день, сегодня, во, второй, раз, посет...</td>\n",
       "    </tr>\n",
       "    <tr>\n",
       "      <th>2</th>\n",
       "      <td>Московская область, Орехово-Зуевский городской...</td>\n",
       "      <td>Пицца РИО</td>\n",
       "      <td>5</td>\n",
       "      <td>Кафе;Ресторан;Столовая</td>\n",
       "      <td>очень вкусно и по домашнему замечательный комп...</td>\n",
       "      <td>1</td>\n",
       "      <td>[очень, вкусно, и, по, домашнему, замечательны...</td>\n",
       "    </tr>\n",
       "    <tr>\n",
       "      <th>3</th>\n",
       "      <td>Омск, улица 70 лет Октября, 19</td>\n",
       "      <td>Корова на бочке</td>\n",
       "      <td>5</td>\n",
       "      <td>Ресторан;Бар, паб</td>\n",
       "      <td>прекрасное заведение хожу много лет меню не по...</td>\n",
       "      <td>1</td>\n",
       "      <td>[прекрасное, заведение, хожу, много, лет, меню...</td>\n",
       "    </tr>\n",
       "    <tr>\n",
       "      <th>4</th>\n",
       "      <td>Ярославль, площадь Труда, 1</td>\n",
       "      <td>IZI kitchen</td>\n",
       "      <td>4</td>\n",
       "      <td>Ресторан;Кафе</td>\n",
       "      <td>все отлично место обстановка обслуживание на в...</td>\n",
       "      <td>1</td>\n",
       "      <td>[все, отлично, место, обстановка, обслуживание...</td>\n",
       "    </tr>\n",
       "    <tr>\n",
       "      <th>...</th>\n",
       "      <td>...</td>\n",
       "      <td>...</td>\n",
       "      <td>...</td>\n",
       "      <td>...</td>\n",
       "      <td>...</td>\n",
       "      <td>...</td>\n",
       "      <td>...</td>\n",
       "    </tr>\n",
       "    <tr>\n",
       "      <th>53701</th>\n",
       "      <td>Республика Крым, Ялта, набережная имени В.И. Л...</td>\n",
       "      <td>Hispaniola Lounge</td>\n",
       "      <td>5</td>\n",
       "      <td>Ресторан</td>\n",
       "      <td>безумно понравилось это заведение до этого час...</td>\n",
       "      <td>1</td>\n",
       "      <td>[безумно, понравилось, это, заведение, до, это...</td>\n",
       "    </tr>\n",
       "    <tr>\n",
       "      <th>53702</th>\n",
       "      <td>Ставрополь, улица Дзержинского, 160</td>\n",
       "      <td>Клюква</td>\n",
       "      <td>5</td>\n",
       "      <td>Ресторан</td>\n",
       "      <td>мне очень понравилосьnnединственный минус  жда...</td>\n",
       "      <td>1</td>\n",
       "      <td>[мне, очень, понравилосьnnединственный, минус,...</td>\n",
       "    </tr>\n",
       "    <tr>\n",
       "      <th>53703</th>\n",
       "      <td>Москва, улица Юных Ленинцев, 52</td>\n",
       "      <td>Petruccio. Pizza&amp;Pasta</td>\n",
       "      <td>5</td>\n",
       "      <td>Ресторан;Кафе;Пиццерия</td>\n",
       "      <td>очень вкусная пицца нравится их система лояльн...</td>\n",
       "      <td>1</td>\n",
       "      <td>[очень, вкусная, пицца, нравится, их, система,...</td>\n",
       "    </tr>\n",
       "    <tr>\n",
       "      <th>53704</th>\n",
       "      <td>Москва, улица Юных Ленинцев, 52</td>\n",
       "      <td>Petruccio. Pizza&amp;Pasta</td>\n",
       "      <td>5</td>\n",
       "      <td>Ресторан;Кафе;Пиццерия</td>\n",
       "      <td>пицца детям понравилась интерьер очень интерес...</td>\n",
       "      <td>1</td>\n",
       "      <td>[пицца, детям, понравилась, интерьер, очень, и...</td>\n",
       "    </tr>\n",
       "    <tr>\n",
       "      <th>53705</th>\n",
       "      <td>Москва, улица Юных Ленинцев, 52</td>\n",
       "      <td>Petruccio. Pizza&amp;Pasta</td>\n",
       "      <td>1</td>\n",
       "      <td>Ресторан;Кафе;Пиццерия</td>\n",
       "      <td>сегодня заказали у вас доставку перепутали нам...</td>\n",
       "      <td>0</td>\n",
       "      <td>[сегодня, заказали, у, вас, доставку, перепута...</td>\n",
       "    </tr>\n",
       "  </tbody>\n",
       "</table>\n",
       "<p>53706 rows × 7 columns</p>\n",
       "</div>"
      ],
      "text/plain": [
       "                                                 address  \\\n",
       "0      Краснодарский край, городской округ Сочи, посё...   \n",
       "1      Краснодарский край, городской округ Сочи, посё...   \n",
       "2      Московская область, Орехово-Зуевский городской...   \n",
       "3                         Омск, улица 70 лет Октября, 19   \n",
       "4                            Ярославль, площадь Труда, 1   \n",
       "...                                                  ...   \n",
       "53701  Республика Крым, Ялта, набережная имени В.И. Л...   \n",
       "53702                Ставрополь, улица Дзержинского, 160   \n",
       "53703                    Москва, улица Юных Ленинцев, 52   \n",
       "53704                    Москва, улица Юных Ленинцев, 52   \n",
       "53705                    Москва, улица Юных Ленинцев, 52   \n",
       "\n",
       "                      name_ru  rating                 rubrics  \\\n",
       "0                      Пандок       2                Ресторан   \n",
       "1                      Пандок       5                Ресторан   \n",
       "2                   Пицца РИО       5  Кафе;Ресторан;Столовая   \n",
       "3             Корова на бочке       5       Ресторан;Бар, паб   \n",
       "4                 IZI kitchen       4           Ресторан;Кафе   \n",
       "...                       ...     ...                     ...   \n",
       "53701       Hispaniola Lounge       5                Ресторан   \n",
       "53702                  Клюква       5                Ресторан   \n",
       "53703  Petruccio. Pizza&Pasta       5  Ресторан;Кафе;Пиццерия   \n",
       "53704  Petruccio. Pizza&Pasta       5  Ресторан;Кафе;Пиццерия   \n",
       "53705  Petruccio. Pizza&Pasta       1  Ресторан;Кафе;Пиццерия   \n",
       "\n",
       "                                                    text  label  \\\n",
       "0      самый большой плюс это месторасположение набер...      0   \n",
       "1      добрый день сегодня во второй раз посетили с д...      1   \n",
       "2      очень вкусно и по домашнему замечательный комп...      1   \n",
       "3      прекрасное заведение хожу много лет меню не по...      1   \n",
       "4      все отлично место обстановка обслуживание на в...      1   \n",
       "...                                                  ...    ...   \n",
       "53701  безумно понравилось это заведение до этого час...      1   \n",
       "53702  мне очень понравилосьnnединственный минус  жда...      1   \n",
       "53703  очень вкусная пицца нравится их система лояльн...      1   \n",
       "53704  пицца детям понравилась интерьер очень интерес...      1   \n",
       "53705  сегодня заказали у вас доставку перепутали нам...      0   \n",
       "\n",
       "                                                  tokens  \n",
       "0      [самый, большой, плюс, это, месторасположение,...  \n",
       "1      [добрый, день, сегодня, во, второй, раз, посет...  \n",
       "2      [очень, вкусно, и, по, домашнему, замечательны...  \n",
       "3      [прекрасное, заведение, хожу, много, лет, меню...  \n",
       "4      [все, отлично, место, обстановка, обслуживание...  \n",
       "...                                                  ...  \n",
       "53701  [безумно, понравилось, это, заведение, до, это...  \n",
       "53702  [мне, очень, понравилосьnnединственный, минус,...  \n",
       "53703  [очень, вкусная, пицца, нравится, их, система,...  \n",
       "53704  [пицца, детям, понравилась, интерьер, очень, и...  \n",
       "53705  [сегодня, заказали, у, вас, доставку, перепута...  \n",
       "\n",
       "[53706 rows x 7 columns]"
      ]
     },
     "execution_count": 14,
     "metadata": {},
     "output_type": "execute_result"
    }
   ],
   "source": [
    "df_restaurants = pd.read_pickle(filename_pkl)\n",
    "df_restaurants"
   ]
  },
  {
   "cell_type": "markdown",
   "metadata": {},
   "source": [
    "Заново считываем датафрейм(если Ноутбук был закрыт после очистки текста)"
   ]
  },
  {
   "cell_type": "code",
   "execution_count": 15,
   "metadata": {},
   "outputs": [],
   "source": [
    "texts = df_restaurants['text'].tolist()\n",
    "labels = df_restaurants['label'].tolist()\n",
    "tokenizer = BertTokenizer.from_pretrained('DeepPavlov/rubert-base-cased')\n",
    "tokens = tokenizer(texts, padding=True, truncation=True, max_length=100, return_tensors=\"tf\")\n",
    "input_ids = tokens['input_ids']\n",
    "attention_masks = tokens['attention_mask']\n",
    "\n",
    "input_ids_np = input_ids.numpy()\n",
    "attention_masks_np = attention_masks.numpy()\n",
    "\n",
    "train_inputs, test_inputs, train_labels, test_labels = train_test_split(\n",
    "    input_ids_np, labels, test_size=0.2, random_state=42)\n",
    "train_masks, test_masks = train_test_split(\n",
    "    attention_masks_np, test_size=0.2, random_state=42)\n",
    "\n",
    "train_inputs = tf.convert_to_tensor(train_inputs)\n",
    "test_inputs = tf.convert_to_tensor(test_inputs)\n",
    "train_masks = tf.convert_to_tensor(train_masks)\n",
    "test_masks = tf.convert_to_tensor(test_masks)\n",
    "train_labels = tf.convert_to_tensor(train_labels)\n",
    "test_labels = tf.convert_to_tensor(test_labels)\n"
   ]
  },
  {
   "cell_type": "markdown",
   "metadata": {},
   "source": [
    "токенизируем текст, делаем падинги до сотки, переводим получившийся текст и метки в нампи(train_test_split отказывается делить тензоры), разбиваем на обучающие и тестовые выборки, возвращаем обратно тензоры"
   ]
  },
  {
   "cell_type": "code",
   "execution_count": null,
   "metadata": {},
   "outputs": [],
   "source": [
    "bert_model = TFBertModel.from_pretrained('DeepPavlov/rubert-base-cased',  from_pt=True)\n",
    "\n",
    "input_ids = Input(shape=(100,), dtype=tf.int32, name='input_ids')\n",
    "attention_mask = Input(shape=(100,), dtype=tf.int32, name='attention_mask')\n",
    "\n",
    "def bert_layer(inputs):\n",
    "    input_ids, attention_mask = inputs\n",
    "    return bert_model(input_ids=input_ids, attention_mask=attention_mask)[0]\n",
    "\n",
    "bert_output = Lambda(bert_layer, output_shape=(100, 768))([input_ids, attention_mask]) \n",
    "x = GlobalAveragePooling1D()(bert_output)\n",
    "x = Dropout(0.3)(x)\n",
    "output = Dense(1, activation='sigmoid')(x)"
   ]
  },
  {
   "cell_type": "markdown",
   "metadata": {},
   "source": [
    "загружаем предобученную модель Берт, получаем токены и маску для них(какие токены следует учитывать), оборачиваем нашу Берту в лямбду(с размерностью (100, 768), где 100 — это количество токенов, а 768 — размер скрытого состояния) и накидываем следующие слои:\n",
    "1. GlobalAveragePooling1D -  производим выходной тензор размерности (768,). Это позволяет получить одно векторное представление для всей последовательности\n",
    "2. Dropout(0.3) - случайным образом обнуляем 30% выходных значений. Это помогает предотвратить переобучение модели\n",
    "3. Dense - выходной  слоей с одним нейроном, функция активации sigmoid. Выдает вероятность между 0 и 1"
   ]
  },
  {
   "cell_type": "code",
   "execution_count": null,
   "metadata": {},
   "outputs": [],
   "source": [
    "model = Model(inputs=[input_ids, attention_mask], outputs=output)\n",
    "\n",
    "model.compile(optimizer='adam', loss='binary_crossentropy', metrics=['accuracy'])\n",
    "early_stopping = EarlyStopping(monitor='val_loss', patience=3, restore_best_weights=True)\n",
    "model_checkpoint = ModelCheckpoint(\n",
    "    filepath='model_reviews.keras',  \n",
    "    save_best_only=True,             \n",
    "    monitor='val_loss',              \n",
    "    mode='min',                      \n",
    "    save_weights_only=False,         \n",
    "    verbose=1                        \n",
    ")\n",
    "\n",
    "\n",
    "history = model.fit(\n",
    "    [train_inputs, train_masks],\n",
    "    train_labels,\n",
    "    validation_data=([test_inputs, test_masks], test_labels),\n",
    "    epochs=50,\n",
    "    batch_size=16,\n",
    "    callbacks=[early_stopping, model_checkpoint],\n",
    "\n",
    ")"
   ]
  },
  {
   "cell_type": "markdown",
   "metadata": {},
   "source": [
    "Настраиваем модель с добавлением колбэков early_stopping(обучение остановится, если модель начнет переобучаться) и model_checkpoint(сохранение модели на каждой эпохе), обучаем модель"
   ]
  },
  {
   "cell_type": "code",
   "execution_count": 11,
   "metadata": {},
   "outputs": [],
   "source": [
    "model = tf.keras.models.load_model('model_reviews.keras', custom_objects={'bert_layer': bert_layer})"
   ]
  },
  {
   "cell_type": "markdown",
   "metadata": {},
   "source": [
    "загрузка уже обученной нашей модели"
   ]
  },
  {
   "cell_type": "code",
   "execution_count": 16,
   "metadata": {},
   "outputs": [
    {
     "name": "stderr",
     "output_type": "stream",
     "text": [
      "Some weights of the PyTorch model were not used when initializing the TF 2.0 model TFBertModel: ['cls.predictions.transform.LayerNorm.bias', 'cls.predictions.transform.LayerNorm.weight', 'cls.seq_relationship.bias', 'cls.predictions.decoder.bias', 'cls.predictions.transform.dense.weight', 'bert.embeddings.position_ids', 'cls.predictions.decoder.weight', 'cls.predictions.bias', 'cls.seq_relationship.weight', 'cls.predictions.transform.dense.bias']\n",
      "- This IS expected if you are initializing TFBertModel from a PyTorch model trained on another task or with another architecture (e.g. initializing a TFBertForSequenceClassification model from a BertForPreTraining model).\n",
      "- This IS NOT expected if you are initializing TFBertModel from a PyTorch model that you expect to be exactly identical (e.g. initializing a TFBertForSequenceClassification model from a BertForSequenceClassification model).\n",
      "All the weights of TFBertModel were initialized from the PyTorch model.\n",
      "If your task is similar to the task the model of the checkpoint was trained on, you can already use TFBertModel for predictions without further training.\n"
     ]
    },
    {
     "name": "stdout",
     "output_type": "stream",
     "text": [
      "\u001b[1m336/336\u001b[0m \u001b[32m━━━━━━━━━━━━━━━━━━━━\u001b[0m\u001b[37m\u001b[0m \u001b[1m502s\u001b[0m 1s/step - accuracy: 0.9583 - loss: 0.1071\n",
      "Loss: 0.106716088950634\n",
      "Accuracy: 0.9586669206619263\n"
     ]
    }
   ],
   "source": [
    "bert_model = TFBertModel.from_pretrained('DeepPavlov/rubert-base-cased',  from_pt=True)\n",
    "loss, accuracy = model.evaluate([test_inputs, test_masks], test_labels)\n",
    "print(f'Loss: {loss}')\n",
    "print(f'Accuracy: {accuracy}')"
   ]
  },
  {
   "cell_type": "markdown",
   "metadata": {},
   "source": [
    "статистика"
   ]
  }
 ],
 "metadata": {
  "kernelspec": {
   "display_name": "Python 3",
   "language": "python",
   "name": "python3"
  },
  "language_info": {
   "codemirror_mode": {
    "name": "ipython",
    "version": 3
   },
   "file_extension": ".py",
   "mimetype": "text/x-python",
   "name": "python",
   "nbconvert_exporter": "python",
   "pygments_lexer": "ipython3",
   "version": "3.12.4"
  }
 },
 "nbformat": 4,
 "nbformat_minor": 2
}
